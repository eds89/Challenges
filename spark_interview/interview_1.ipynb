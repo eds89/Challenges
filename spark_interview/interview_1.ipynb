{
 "cells": [
  {
   "cell_type": "markdown",
   "metadata": {},
   "source": [
    "# Spark Interview 1: Date types\n"
   ]
  },
  {
   "cell_type": "markdown",
   "metadata": {},
   "source": [
    "Loads PySpark and basic modules"
   ]
  },
  {
   "cell_type": "code",
   "execution_count": 2,
   "metadata": {},
   "outputs": [],
   "source": [
    "# module `findspark` is useful when running Apache Spark on Windows\n",
    "import findspark\n",
    "findspark.init()\n",
    "\n",
    "# pyspark modules\n",
    "from pyspark.sql import SparkSession\n",
    "from pyspark.sql import Row\n",
    "\n",
    "from datetime import date\n",
    "\n",
    "session = SparkSession.builder.appName(\"Spark Interview 1\").getOrCreate()"
   ]
  },
  {
   "cell_type": "markdown",
   "metadata": {},
   "source": [
    "Creates a Spark dataframe with dummy content"
   ]
  },
  {
   "cell_type": "code",
   "execution_count": 3,
   "metadata": {},
   "outputs": [
    {
     "name": "stdout",
     "output_type": "stream",
     "text": [
      "+---------+----------+----------+\n",
      "|  project|     start|       end|\n",
      "+---------+----------+----------+\n",
      "|Project 1|2022-07-15|2022-07-16|\n",
      "|Project 2|2022-07-01|      null|\n",
      "|Project 3|2022-06-09|2022-06-12|\n",
      "+---------+----------+----------+\n",
      "\n"
     ]
    }
   ],
   "source": [
    "\n",
    "\n",
    "df = session.createDataFrame([\n",
    "    Row(project=\"Project 1\", start=date(2022,7,15),end=date(2022,7,16)),\n",
    "    Row(project=\"Project 2\", start=date(2022,7,1),end=None),\n",
    "    Row(project=\"Project 3\", start=date(2022,6,9),end=date(2022,6,12))],\n",
    "    #schema=\"project_name string,  start_date date,  end_date date\"\n",
    ")\n",
    "\n",
    "df.show()\n"
   ]
  },
  {
   "cell_type": "markdown",
   "metadata": {},
   "source": [
    "**Problem 1.** Calculate the duration of projects. The end date is inclusive - e.g. a project that starts on 14 July 2022 and ends on 15 July 2022 lasts for 2 days. "
   ]
  },
  {
   "cell_type": "code",
   "execution_count": 4,
   "metadata": {},
   "outputs": [
    {
     "name": "stdout",
     "output_type": "stream",
     "text": [
      "+---------+----------+----------+--------------+\n",
      "|  project|     start|       end|project_length|\n",
      "+---------+----------+----------+--------------+\n",
      "|Project 1|2022-07-15|2022-07-16|             2|\n",
      "|Project 2|2022-07-01|      null|          null|\n",
      "|Project 3|2022-06-09|2022-06-12|             4|\n",
      "+---------+----------+----------+--------------+\n",
      "\n"
     ]
    }
   ],
   "source": [
    "from pyspark.sql.functions import datediff,date_add, when\n",
    "\n",
    "def calculate_duration(df):\n",
    "    \"\"\"\n",
    "    Creates a new column containing the difference between `end` and `start` dates plus 1 (to include last day).\n",
    "    \n",
    "    \"\"\"\n",
    "    return df.withColumn(\"project_length\", datediff(\"end\",\"start\") + 1)\n",
    "\n",
    "df_a = calculate_duration(df)\n",
    "df_a.show()"
   ]
  },
  {
   "cell_type": "markdown",
   "metadata": {},
   "source": [
    "**Problem 2.** Now let's improve the previous function. When the `end` column is `null`, calculate project length until today. Sort in descending order of project length (longest duration first)."
   ]
  },
  {
   "cell_type": "code",
   "execution_count": 36,
   "metadata": {},
   "outputs": [
    {
     "name": "stdout",
     "output_type": "stream",
     "text": [
      "+---------+----------+----------+--------------+\n",
      "|  project|     start|       end|project_length|\n",
      "+---------+----------+----------+--------------+\n",
      "|Project 2|2022-07-01|      null|            15|\n",
      "|Project 3|2022-06-09|2022-06-12|             4|\n",
      "|Project 1|2022-07-15|2022-07-16|             2|\n",
      "+---------+----------+----------+--------------+\n",
      "\n"
     ]
    }
   ],
   "source": [
    "from pyspark.sql.functions import datediff,date_add, when, isnull, current_date, desc\n",
    "\n",
    "def calculate_duration_2(df):\n",
    "    \"\"\"\n",
    "    Builds from previous function. Uses built-in conditional statement (`when` and `otherwise` functions). If `end` column is empty, uses the today's date (`current_date` function instead). \n",
    "    \"\"\"\n",
    "    df2 = df.withColumn(\"project_length\", when(isnull(\"end\"), datediff(current_date(),\"start\")+1).\\\n",
    "                                otherwise(datediff(\"end\",\"start\")+1)).sort(desc(\"project_length\"))\n",
    "    return df2\n",
    "\n",
    "df_b = calculate_duration_2(df_a)\n",
    "df_b.show()"
   ]
  },
  {
   "cell_type": "markdown",
   "metadata": {},
   "source": [
    "## Test\n",
    "\n",
    "Create unit test cases for the functions above using `pytest`.\n",
    "\n",
    "TODO: shorten test cases."
   ]
  },
  {
   "cell_type": "code",
   "execution_count": 35,
   "metadata": {},
   "outputs": [
    {
     "name": "stdout",
     "output_type": "stream",
     "text": [
      "\u001b[32m.\u001b[0m\u001b[32m.\u001b[0m\u001b[32m.\u001b[0m\u001b[32m.\u001b[0m\u001b[32m.\u001b[0m\u001b[32m.\u001b[0m\u001b[32m.\u001b[0m\u001b[32m                                                                                      [100%]\u001b[0m\n",
      "\u001b[32m\u001b[32m\u001b[1m7 passed\u001b[0m\u001b[32m in 124.44s (0:02:04)\u001b[0m\u001b[0m\n"
     ]
    },
    {
     "data": {
      "text/plain": [
       "<ExitCode.OK: 0>"
      ]
     },
     "execution_count": 35,
     "metadata": {},
     "output_type": "execute_result"
    }
   ],
   "source": [
    "\n",
    "import pytest\n",
    "\n",
    "# needed to run pytest tests in a jupyter notebook\n",
    "import ipytest\n",
    "ipytest.autoconfig()\n",
    "\n",
    "from datetime import date, timedelta\n",
    "\n",
    "def test_calculate_duration_basic_case():\n",
    "    \"\"\"\n",
    "    Tests basic case of `calculate_duration()`.\n",
    "    \"\"\"\n",
    "    df = session.createDataFrame([\n",
    "        Row(project=\"Project 1\", start=date(2022,7,15),end=date(2022,7,16))],)\n",
    "    df.createOrReplaceTempView(\"df\")\n",
    "    \n",
    "    df_expected = session.createDataFrame([Row(project=\"Project 1\", start=date(2022,7,15),end=date(2022,7,16), project_length=2)],)\n",
    "    df_expected.createOrReplaceTempView(\"df_expected\")\n",
    "    \n",
    "    df_result = calculate_duration(df)\n",
    "    \n",
    "    assert df_result.collect() == df_expected.collect()\n",
    "    \n",
    "def test_calculate_duration_end_null():\n",
    "    \"\"\"\n",
    "    Tests `calculate_duration_2()`: end date is empty.\n",
    "    \"\"\"\n",
    "    start_date = date(2022,7,15)\n",
    "    curr_date = date.today()\n",
    "    expected_length = (curr_date - start_date).days + 1\n",
    "    \n",
    "    df = session.createDataFrame([\n",
    "        (\"Project 1\", start_date, None)],\n",
    "        schema=\"project string, start date, end date\")\n",
    "    df.createOrReplaceTempView(\"df\")\n",
    "    \n",
    "\n",
    "    df_expected = session.createDataFrame([\n",
    "        (\"Project 1\", date(2022,7,15), None, expected_length)],\n",
    "        schema=\"project string, start date, end date, project_length int\")\n",
    "    df_expected.createOrReplaceTempView(\"df_expected\")\n",
    "    \n",
    "    df_result = calculate_duration_2(df)\n",
    "    \n",
    "    assert df_result.collect() == df_expected.collect()\n",
    "\n",
    "    \n",
    "def test_calculate_duration_with_desc_sort():\n",
    "    \"\"\"\n",
    "    Tests `calculate_duration_2()`: sort in descending order.\n",
    "    \"\"\"\n",
    "    df = session.createDataFrame([\n",
    "        (\"Project 1\", date(2022,4,10), date(2022,4,12)),\n",
    "        (\"Project 2\", date(2022,4,21), date(2022,4,25)),],\n",
    "        schema=\"project string, start date, end date\")\n",
    "    df.createOrReplaceTempView(\"df\")\n",
    "\n",
    "    df_expected  = session.createDataFrame([\n",
    "        (\"Project 2\", date(2022,4,21), date(2022,4,25), 5),\n",
    "    (\"Project 1\", date(2022,4,10), date(2022,4,12), 3),],\n",
    "        schema=\"project string, start date, end date, project_length int\")\n",
    "    df_expected.createOrReplaceTempView(\"df_expected\")\n",
    "    \n",
    "    df_result = calculate_duration_2(df)\n",
    "    \n",
    "    assert df_result.collect() == df_expected.collect()    \n",
    "    \n",
    "def test_calculate_duration_with_end_null_and_desc_sort():\n",
    "    \"\"\"\n",
    "    Tests `calculate_duration_2()`: end date is empty and sort in descending order.\n",
    "    \"\"\"\n",
    "    \n",
    "    # today's date can vary, therefore start_date is today minus 2 days\n",
    "    start_date = date.today() - timedelta(days=2)\n",
    "    curr_date = date.today()\n",
    "    # expected project length\n",
    "    expected_length = (curr_date - start_date).days + 1\n",
    "    \n",
    "    df = session.createDataFrame([\n",
    "        (\"Project 1\", start_date, None),\n",
    "        (\"Project 2\", date(2022,4,21), date(2022,4,25)),],\n",
    "        schema=\"project string, start date, end date\")\n",
    "    df.createOrReplaceTempView(\"df\")\n",
    "    \n",
    "    # expected resulting dataframe (uses `expected_length`)\n",
    "    df_expected  = session.createDataFrame([\n",
    "        (\"Project 2\", date(2022,4,21), date(2022,4,25), 5),\n",
    "        (\"Project 1\", start_date, None, expected_length),],\n",
    "        schema=\"project string, start date, end date, project_length int\")\n",
    "    df_expected.createOrReplaceTempView(\"df_expected\")\n",
    "    \n",
    "    df_result = calculate_duration_2(df)\n",
    "    \n",
    "    assert df_result.collect() == df_expected.collect()    \n",
    "\n",
    "# runs all tests in this notebook cell`\n",
    "ipytest.run()"
   ]
  }
 ],
 "metadata": {
  "kernelspec": {
   "display_name": "Python 3",
   "language": "python",
   "name": "python3"
  },
  "language_info": {
   "codemirror_mode": {
    "name": "ipython",
    "version": 3
   },
   "file_extension": ".py",
   "mimetype": "text/x-python",
   "name": "python",
   "nbconvert_exporter": "python",
   "pygments_lexer": "ipython3",
   "version": "3.7.6"
  }
 },
 "nbformat": 4,
 "nbformat_minor": 4
}
